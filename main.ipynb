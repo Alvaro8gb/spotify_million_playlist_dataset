{
 "cells": [
  {
   "cell_type": "markdown",
   "metadata": {},
   "source": []
  },
  {
   "cell_type": "code",
   "execution_count": 23,
   "metadata": {},
   "outputs": [],
   "source": [
    "import os\n",
    "import json"
   ]
  },
  {
   "cell_type": "code",
   "execution_count": 24,
   "metadata": {},
   "outputs": [],
   "source": [
    "PATH = \"data/\""
   ]
  },
  {
   "cell_type": "code",
   "execution_count": 25,
   "metadata": {},
   "outputs": [
    {
     "name": "stdout",
     "output_type": "stream",
     "text": [
      "1000\n"
     ]
    }
   ],
   "source": [
    "filenames = [os.path.join(PATH, f) for f in sorted(os.listdir(PATH)) if f.startswith(\"mpd.slice.\") and f.endswith(\".json\")]\n",
    "print(len(filenames))"
   ]
  },
  {
   "cell_type": "code",
   "execution_count": 26,
   "metadata": {},
   "outputs": [
    {
     "name": "stdout",
     "output_type": "stream",
     "text": [
      "['data/mpd.slice.0-999.json', 'data/mpd.slice.1000-1999.json']\n"
     ]
    }
   ],
   "source": [
    "print(filenames[:2])"
   ]
  },
  {
   "cell_type": "code",
   "execution_count": 27,
   "metadata": {},
   "outputs": [],
   "source": [
    "playlist_art = {}"
   ]
  },
  {
   "cell_type": "code",
   "execution_count": 28,
   "metadata": {},
   "outputs": [],
   "source": [
    "\n",
    "for fname in filenames[:5]:\n",
    "\n",
    "        with open(fname) as f:\n",
    "            mpd_slice = json.load(f)\n",
    "        \n",
    "        for playlist in mpd_slice[\"playlists\"]:\n",
    "            pid_info = []\n",
    "\n",
    "            for t in playlist[\"tracks\"]:\n",
    "                pid_info.append({\"artist\": t[\"artist_name\"], \"track\": t[\"track_name\"]})\n",
    "\n",
    "            \n",
    "            playlist_art[playlist[\"pid\"]] = pid_info"
   ]
  },
  {
   "cell_type": "code",
   "execution_count": 29,
   "metadata": {},
   "outputs": [
    {
     "name": "stdout",
     "output_type": "stream",
     "text": [
      "5000\n"
     ]
    }
   ],
   "source": [
    "print(len(playlist_art))"
   ]
  },
  {
   "cell_type": "code",
   "execution_count": 30,
   "metadata": {},
   "outputs": [],
   "source": [
    "playlist_tuples = [(pid, info) for pid, tracks in playlist_art.items() for info in tracks]\n",
    "\n",
    "playlist_artist = [(pid, info[\"artist\"]) for pid, info in playlist_tuples]\n",
    "playlist_song = [(pid, info[\"track\"]) for pid, info in playlist_tuples]"
   ]
  },
  {
   "cell_type": "code",
   "execution_count": 31,
   "metadata": {},
   "outputs": [
    {
     "name": "stdout",
     "output_type": "stream",
     "text": [
      "(0, 'Britney Spears')\n",
      "(0, 'Beyoncé')\n",
      "(0, 'Justin Timberlake')\n",
      "(0, 'Shaggy')\n"
     ]
    }
   ],
   "source": [
    "\n",
    "for e in playlist_artist[1:5]:\n",
    "    print(e)"
   ]
  },
  {
   "cell_type": "code",
   "execution_count": 32,
   "metadata": {},
   "outputs": [
    {
     "name": "stdout",
     "output_type": "stream",
     "text": [
      "(0, 'Toxic')\n",
      "(0, 'Crazy In Love')\n",
      "(0, 'Rock Your Body')\n",
      "(0, \"It Wasn't Me\")\n"
     ]
    }
   ],
   "source": [
    "\n",
    "for e in playlist_song[1:5]:\n",
    "    print(e)"
   ]
  },
  {
   "cell_type": "markdown",
   "metadata": {},
   "source": [
    "artist1 ->  artist2\n",
    "song1 -> song2 \n",
    "\n",
    "we are goint to hav to graphs.\n",
    "\n",
    "- playinst-artist graph (Pablo)\n",
    "id_plalist -> artist\n",
    "- playlist-song (Alek)\n",
    "id_playlist -> song"
   ]
  },
  {
   "cell_type": "code",
   "execution_count": 35,
   "metadata": {},
   "outputs": [],
   "source": [
    "import pandas as pd\n",
    "\n",
    "df_artist = pd.DataFrame(playlist_artist, columns=['Source', 'Target'])\n",
    "df_artist.to_csv(\"playlist_artist.csv\", index=False)\n",
    "df_song = pd.DataFrame(playlist_song, columns=['Source', 'Target'])\n",
    "df_song.to_csv(\"playlist_song.csv\", index=False)\n"
   ]
  }
 ],
 "metadata": {
  "kernelspec": {
   "display_name": ".venv",
   "language": "python",
   "name": "python3"
  },
  "language_info": {
   "codemirror_mode": {
    "name": "ipython",
    "version": 3
   },
   "file_extension": ".py",
   "mimetype": "text/x-python",
   "name": "python",
   "nbconvert_exporter": "python",
   "pygments_lexer": "ipython3",
   "version": "3.10.12"
  }
 },
 "nbformat": 4,
 "nbformat_minor": 2
}
